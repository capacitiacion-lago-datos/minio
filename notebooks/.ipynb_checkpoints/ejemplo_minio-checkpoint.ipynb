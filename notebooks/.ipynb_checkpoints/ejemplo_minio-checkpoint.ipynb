{
 "cells": [
  {
   "cell_type": "code",
   "execution_count": 13,
   "metadata": {},
   "outputs": [],
   "source": [
    "# Importar dependencias\n",
    "\n",
    "from s3fs.core import S3FileSystem\n",
    "import pandas as pd\n",
    "import os\n"
   ]
  },
  {
   "cell_type": "code",
   "execution_count": 14,
   "metadata": {},
   "outputs": [],
   "source": [
    "# Agregar credenciales\n",
    "access = \"***\" # reemplazar por credenciales\n",
    "secret = \"***\" # reemplazar por credenciales\n",
    "s3 = S3FileSystem(\n",
    "    key=access,\n",
    "    secret=secret,\n",
    "    endpoint_url=\"http://10.91.160.65:9000\"\n",
    ")"
   ]
  },
  {
   "cell_type": "code",
   "execution_count": 15,
   "metadata": {},
   "outputs": [
    {
     "name": "stdout",
     "output_type": "stream",
     "text": [
      "capacitacion-lago-datos\n"
     ]
    }
   ],
   "source": [
    "# Exploremos nuestra conexión\n",
    "buckets = s3.ls('')\n",
    "\n",
    "# Imprimir los buckets a los que tenemos acceso\n",
    "for bucket in buckets:\n",
    "    print(bucket)"
   ]
  },
  {
   "cell_type": "code",
   "execution_count": 16,
   "metadata": {},
   "outputs": [
    {
     "name": "stdout",
     "output_type": "stream",
     "text": [
      "capacitacion-lago-datos/df_ejemplo.parquet\n",
      "capacitacion-lago-datos/replica_0.parquet\n",
      "capacitacion-lago-datos/replica_1.parquet\n",
      "capacitacion-lago-datos/replica_2.parquet\n",
      "capacitacion-lago-datos/replica_3.parquet\n",
      "capacitacion-lago-datos/replica_4.parquet\n",
      "capacitacion-lago-datos/replica_5.parquet\n",
      "capacitacion-lago-datos/replica_6.parquet\n",
      "capacitacion-lago-datos/replica_7.parquet\n",
      "capacitacion-lago-datos/replica_8.parquet\n",
      "capacitacion-lago-datos/replica_9.parquet\n"
     ]
    }
   ],
   "source": [
    "# Veamos los archivos dentro de un bucket\n",
    "files = s3.ls('capacitacion-lago-datos')\n",
    "\n",
    "# Imprimir archivos dentro del bucket\n",
    "for file in files:\n",
    "    print(file)"
   ]
  },
  {
   "cell_type": "markdown",
   "metadata": {},
   "source": [
    "Creamos un dataframe de juguete, para escribirlo en minio"
   ]
  },
  {
   "cell_type": "code",
   "execution_count": 17,
   "metadata": {},
   "outputs": [
    {
     "data": {
      "text/html": [
       "<div>\n",
       "<style scoped>\n",
       "    .dataframe tbody tr th:only-of-type {\n",
       "        vertical-align: middle;\n",
       "    }\n",
       "\n",
       "    .dataframe tbody tr th {\n",
       "        vertical-align: top;\n",
       "    }\n",
       "\n",
       "    .dataframe thead th {\n",
       "        text-align: right;\n",
       "    }\n",
       "</style>\n",
       "<table border=\"1\" class=\"dataframe\">\n",
       "  <thead>\n",
       "    <tr style=\"text-align: right;\">\n",
       "      <th></th>\n",
       "      <th>x</th>\n",
       "      <th>y</th>\n",
       "    </tr>\n",
       "  </thead>\n",
       "  <tbody>\n",
       "    <tr>\n",
       "      <th>0</th>\n",
       "      <td>0</td>\n",
       "      <td>3</td>\n",
       "    </tr>\n",
       "    <tr>\n",
       "      <th>1</th>\n",
       "      <td>1</td>\n",
       "      <td>4</td>\n",
       "    </tr>\n",
       "    <tr>\n",
       "      <th>2</th>\n",
       "      <td>2</td>\n",
       "      <td>5</td>\n",
       "    </tr>\n",
       "    <tr>\n",
       "      <th>3</th>\n",
       "      <td>3</td>\n",
       "      <td>6</td>\n",
       "    </tr>\n",
       "    <tr>\n",
       "      <th>4</th>\n",
       "      <td>4</td>\n",
       "      <td>7</td>\n",
       "    </tr>\n",
       "    <tr>\n",
       "      <th>5</th>\n",
       "      <td>5</td>\n",
       "      <td>8</td>\n",
       "    </tr>\n",
       "    <tr>\n",
       "      <th>6</th>\n",
       "      <td>6</td>\n",
       "      <td>9</td>\n",
       "    </tr>\n",
       "    <tr>\n",
       "      <th>7</th>\n",
       "      <td>7</td>\n",
       "      <td>10</td>\n",
       "    </tr>\n",
       "    <tr>\n",
       "      <th>8</th>\n",
       "      <td>8</td>\n",
       "      <td>11</td>\n",
       "    </tr>\n",
       "    <tr>\n",
       "      <th>9</th>\n",
       "      <td>9</td>\n",
       "      <td>12</td>\n",
       "    </tr>\n",
       "  </tbody>\n",
       "</table>\n",
       "</div>"
      ],
      "text/plain": [
       "   x   y\n",
       "0  0   3\n",
       "1  1   4\n",
       "2  2   5\n",
       "3  3   6\n",
       "4  4   7\n",
       "5  5   8\n",
       "6  6   9\n",
       "7  7  10\n",
       "8  8  11\n",
       "9  9  12"
      ]
     },
     "execution_count": 17,
     "metadata": {},
     "output_type": "execute_result"
    }
   ],
   "source": [
    "# Columnas de juguete\n",
    "x = [i for i in range(10)]\n",
    "y = [i + 3 for i in range(10)]\n",
    "\n",
    "# Escribir archivo con pandas\n",
    "df = pd.DataFrame({\"x\": x, \"y\": y})\n",
    "df.to_parquet(\"../data/df_ejemplo.parquet\")\n",
    "df"
   ]
  },
  {
   "cell_type": "code",
   "execution_count": 18,
   "metadata": {},
   "outputs": [],
   "source": [
    "# Escribir en minio el archivo parquet\n",
    "bucket = \"capacitacion-lago-datos\"\n",
    "file = \"df_ejemplo.parquet\"\n",
    "source_folder = \"../data\"\n",
    "\n",
    "minio_path = f\"{bucket}/data-ejemplo/{file}\"\n",
    "local_path = f\"{source_folder}/{file}\"\n",
    "s3.put_file(rpath=minio_path,lpath=local_path)"
   ]
  },
  {
   "cell_type": "markdown",
   "metadata": {},
   "source": [
    "Replicamos varias veces el archivo en nuestro directorio local"
   ]
  },
  {
   "cell_type": "code",
   "execution_count": 19,
   "metadata": {},
   "outputs": [
    {
     "name": "stdout",
     "output_type": "stream",
     "text": [
      "Escribiendo archivo 0\n",
      "Escribiendo archivo 1\n",
      "Escribiendo archivo 2\n",
      "Escribiendo archivo 3\n",
      "Escribiendo archivo 4\n",
      "Escribiendo archivo 5\n",
      "Escribiendo archivo 6\n",
      "Escribiendo archivo 7\n",
      "Escribiendo archivo 8\n",
      "Escribiendo archivo 9\n"
     ]
    }
   ],
   "source": [
    "# Contiene el archivo creado manualmente\n",
    "original_file =  pd.read_parquet(local_path)\n",
    "\n",
    "# Vamos a escribir varias veces el mismo archivo\n",
    "for i in range(10):\n",
    "    print(f\"Escribiendo archivo {i}\")\n",
    "    original_file.to_parquet(f\"../data/replica_{i}.parquet\")     "
   ]
  },
  {
   "cell_type": "code",
   "execution_count": 20,
   "metadata": {},
   "outputs": [
    {
     "name": "stdout",
     "output_type": "stream",
     "text": [
      "--------- Escribiendo en S3 archivo replica_7.parquet\n",
      "--------- Escribiendo en S3 archivo replica_5.parquet\n",
      "--------- Escribiendo en S3 archivo replica_1.parquet\n",
      "--------- Escribiendo en S3 archivo replica_4.parquet\n",
      "--------- Escribiendo en S3 archivo replica_2.parquet\n",
      "--------- Escribiendo en S3 archivo df_ejemplo.parquet\n",
      "--------- Escribiendo en S3 archivo replica_9.parquet\n",
      "--------- Escribiendo en S3 archivo replica_8.parquet\n",
      "--------- Escribiendo en S3 archivo replica_0.parquet\n",
      "--------- Escribiendo en S3 archivo replica_6.parquet\n",
      "--------- Escribiendo en S3 archivo replica_3.parquet\n"
     ]
    }
   ],
   "source": [
    "# Escribimos todo en minio\n",
    "parquet_files =  os.listdir(\"../data\")\n",
    "bucket = \"capacitacion-lago-datos\"\n",
    "for file in parquet_files:\n",
    "    print(f\"--------- Escribiendo en S3 archivo {file}\")\n",
    "    minio_path = f\"{bucket}/data-ejemplo/{file}\"\n",
    "    file_path = f\"../data/{file}\"\n",
    "    s3.put_file(lpath=file_path,rpath=minio_path)\n",
    "\n",
    "\n"
   ]
  },
  {
   "cell_type": "code",
   "execution_count": 21,
   "metadata": {},
   "outputs": [
    {
     "name": "stdout",
     "output_type": "stream",
     "text": [
      "capacitacion-lago-datos/data-ejemplo/df_ejemplo.parquet\n",
      "capacitacion-lago-datos/data-ejemplo/replica_0.parquet\n",
      "capacitacion-lago-datos/data-ejemplo/replica_1.parquet\n",
      "capacitacion-lago-datos/data-ejemplo/replica_2.parquet\n",
      "capacitacion-lago-datos/data-ejemplo/replica_3.parquet\n",
      "capacitacion-lago-datos/data-ejemplo/replica_4.parquet\n",
      "capacitacion-lago-datos/data-ejemplo/replica_5.parquet\n",
      "capacitacion-lago-datos/data-ejemplo/replica_6.parquet\n",
      "capacitacion-lago-datos/data-ejemplo/replica_7.parquet\n",
      "capacitacion-lago-datos/data-ejemplo/replica_8.parquet\n",
      "capacitacion-lago-datos/data-ejemplo/replica_9.parquet\n"
     ]
    }
   ],
   "source": [
    "# Revisemos que todo haya quedado bien escrito\n",
    "files = s3.ls('capacitacion-lago-datos/data-ejemplo')\n",
    "\n",
    "# Imprimir archivos dentro del bucket\n",
    "for file in files:\n",
    "    print(file)\n"
   ]
  },
  {
   "cell_type": "code",
   "execution_count": 22,
   "metadata": {},
   "outputs": [
    {
     "data": {
      "text/html": [
       "<div>\n",
       "<style scoped>\n",
       "    .dataframe tbody tr th:only-of-type {\n",
       "        vertical-align: middle;\n",
       "    }\n",
       "\n",
       "    .dataframe tbody tr th {\n",
       "        vertical-align: top;\n",
       "    }\n",
       "\n",
       "    .dataframe thead th {\n",
       "        text-align: right;\n",
       "    }\n",
       "</style>\n",
       "<table border=\"1\" class=\"dataframe\">\n",
       "  <thead>\n",
       "    <tr style=\"text-align: right;\">\n",
       "      <th></th>\n",
       "      <th>x</th>\n",
       "      <th>y</th>\n",
       "    </tr>\n",
       "  </thead>\n",
       "  <tbody>\n",
       "    <tr>\n",
       "      <th>0</th>\n",
       "      <td>0</td>\n",
       "      <td>3</td>\n",
       "    </tr>\n",
       "    <tr>\n",
       "      <th>1</th>\n",
       "      <td>1</td>\n",
       "      <td>4</td>\n",
       "    </tr>\n",
       "    <tr>\n",
       "      <th>2</th>\n",
       "      <td>2</td>\n",
       "      <td>5</td>\n",
       "    </tr>\n",
       "    <tr>\n",
       "      <th>3</th>\n",
       "      <td>3</td>\n",
       "      <td>6</td>\n",
       "    </tr>\n",
       "    <tr>\n",
       "      <th>4</th>\n",
       "      <td>4</td>\n",
       "      <td>7</td>\n",
       "    </tr>\n",
       "    <tr>\n",
       "      <th>5</th>\n",
       "      <td>5</td>\n",
       "      <td>8</td>\n",
       "    </tr>\n",
       "    <tr>\n",
       "      <th>6</th>\n",
       "      <td>6</td>\n",
       "      <td>9</td>\n",
       "    </tr>\n",
       "    <tr>\n",
       "      <th>7</th>\n",
       "      <td>7</td>\n",
       "      <td>10</td>\n",
       "    </tr>\n",
       "    <tr>\n",
       "      <th>8</th>\n",
       "      <td>8</td>\n",
       "      <td>11</td>\n",
       "    </tr>\n",
       "    <tr>\n",
       "      <th>9</th>\n",
       "      <td>9</td>\n",
       "      <td>12</td>\n",
       "    </tr>\n",
       "  </tbody>\n",
       "</table>\n",
       "</div>"
      ],
      "text/plain": [
       "   x   y\n",
       "0  0   3\n",
       "1  1   4\n",
       "2  2   5\n",
       "3  3   6\n",
       "4  4   7\n",
       "5  5   8\n",
       "6  6   9\n",
       "7  7  10\n",
       "8  8  11\n",
       "9  9  12"
      ]
     },
     "execution_count": 22,
     "metadata": {},
     "output_type": "execute_result"
    }
   ],
   "source": [
    "# Leer un archivo desde minio\n",
    "minio_path = \"s3://capacitacion-lago-datos/data-ejemplo/df_ejemplo.parquet\"\n",
    "parquet_example = pd.read_parquet(minio_path, filesystem=s3)\n",
    "parquet_example"
   ]
  },
  {
   "cell_type": "code",
   "execution_count": null,
   "metadata": {},
   "outputs": [],
   "source": []
  }
 ],
 "metadata": {
  "kernelspec": {
   "display_name": "Python 3 (ipykernel)",
   "language": "python",
   "name": "python3"
  },
  "language_info": {
   "codemirror_mode": {
    "name": "ipython",
    "version": 3
   },
   "file_extension": ".py",
   "mimetype": "text/x-python",
   "name": "python",
   "nbconvert_exporter": "python",
   "pygments_lexer": "ipython3",
   "version": "3.11.6"
  }
 },
 "nbformat": 4,
 "nbformat_minor": 4
}
