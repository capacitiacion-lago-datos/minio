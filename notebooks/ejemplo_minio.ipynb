{
 "cells": [
  {
   "cell_type": "code",
   "execution_count": null,
   "metadata": {},
   "outputs": [],
   "source": [
    "# Importar dependencias\n",
    "from s3fs.core import S3FileSystem\n",
    "import pandas as pd\n",
    "import os"
   ]
  },
  {
   "cell_type": "code",
   "execution_count": null,
   "metadata": {},
   "outputs": [],
   "source": [
    "# Agregar credenciales\n",
    "access = \"capacitacion\" # reemplazar por credenciales\n",
    "secret = \"capacitacion\" # reemplazar por credenciales\n",
    "s3 = S3FileSystem(\n",
    "    key=access,\n",
    "    secret=secret,\n",
    "    endpoint_url=\"http://10.91.160.65:9000\"\n",
    ")"
   ]
  },
  {
   "cell_type": "code",
   "execution_count": null,
   "metadata": {},
   "outputs": [],
   "source": [
    "# Exploremos nuestra conexión\n",
    "buckets = s3.ls('')\n",
    "\n",
    "# Imprimir los buckets a los que tenemos acceso\n",
    "for bucket in buckets:\n",
    "    print(bucket)"
   ]
  },
  {
   "cell_type": "code",
   "execution_count": null,
   "metadata": {},
   "outputs": [],
   "source": [
    "# Veamos los archivos dentro de un bucket\n",
    "files = s3.ls('capacitacion-lago-datos')\n",
    "\n",
    "# Imprimir archivos dentro del bucket\n",
    "for file in files:\n",
    "    print(file)"
   ]
  },
  {
   "cell_type": "markdown",
   "metadata": {},
   "source": [
    "Creamos un dataframe de juguete, para escribirlo en minio"
   ]
  },
  {
   "cell_type": "code",
   "execution_count": null,
   "metadata": {},
   "outputs": [],
   "source": [
    "# Columnas de juguete\n",
    "mi_nombre = \"kl\"\n",
    "\n",
    "x = [i for i in range(10)]\n",
    "y = [i + 3 for i in range(10)]\n",
    "\n",
    "# Escribir archivo con pandas\n",
    "df = pd.DataFrame({\"x\": x, \"y\": y})\n",
    "df.to_parquet(f\"../data/df_ejemplo_{mi_nombre}.parquet\")\n",
    "df"
   ]
  },
  {
   "cell_type": "code",
   "execution_count": null,
   "metadata": {},
   "outputs": [],
   "source": [
    "# Escribir en minio el archivo parquet\n",
    "bucket = \"capacitacion-lago-datos\"\n",
    "file = f\"df_ejemplo_{mi_nombre}.parquet\"\n",
    "source_folder = \"../data\"\n",
    "\n",
    "minio_path = f\"{bucket}/data-ejemplo/{file}\"\n",
    "local_path = f\"{source_folder}/{file}\"\n",
    "s3.put_file(rpath=minio_path,lpath=local_path)"
   ]
  },
  {
   "cell_type": "markdown",
   "metadata": {},
   "source": [
    "Replicamos varias veces el archivo en nuestro directorio local"
   ]
  },
  {
   "cell_type": "code",
   "execution_count": null,
   "metadata": {},
   "outputs": [],
   "source": [
    "# Contiene el archivo creado manualmente\n",
    "original_file =  pd.read_parquet(local_path)\n",
    "\n",
    "# Vamos a escribir varias veces el mismo archivo\n",
    "for i in range(10):\n",
    "    print(f\"Escribiendo archivo {i}\")\n",
    "    original_file.to_parquet(f\"../data/replica_{i}_{mi_nombre}.parquet\")     "
   ]
  },
  {
   "cell_type": "code",
   "execution_count": null,
   "metadata": {},
   "outputs": [],
   "source": [
    "# Escribimos todo en minio\n",
    "parquet_files =  os.listdir(\"../data/\")\n",
    "parquet_files = [file for file in parquet_files if \"parquet\" in file ]\n",
    "\n",
    "bucket = \"capacitacion-lago-datos\"\n",
    "for file in parquet_files:\n",
    "    print(f\"--------- Escribiendo en S3 archivo {file}\")\n",
    "    minio_path = f\"{bucket}/data-ejemplo/{file}\"\n",
    "    file_path = f\"../data/{file}\"\n",
    "    s3.put_file(lpath=file_path,rpath=minio_path)\n"
   ]
  },
  {
   "cell_type": "code",
   "execution_count": null,
   "metadata": {},
   "outputs": [],
   "source": [
    "# Revisemos que todo haya quedado bien escrito\n",
    "files = s3.ls('capacitacion-lago-datos/data-ejemplo')\n",
    "\n",
    "# Imprimir archivos dentro del bucket\n",
    "for file in files:\n",
    "    print(file)\n"
   ]
  },
  {
   "cell_type": "code",
   "execution_count": null,
   "metadata": {},
   "outputs": [],
   "source": [
    "# Leer un archivo desde minio\n",
    "minio_path = f\"s3://capacitacion-lago-datos/data-ejemplo/replica_1_{mi_nombre}.parquet\"\n",
    "parquet_example = pd.read_parquet(minio_path, filesystem=s3)\n",
    "parquet_example"
   ]
  },
  {
   "cell_type": "code",
   "execution_count": null,
   "metadata": {},
   "outputs": [],
   "source": []
  }
 ],
 "metadata": {
  "kernelspec": {
   "display_name": "Python 3 (ipykernel)",
   "language": "python",
   "name": "python3"
  },
  "language_info": {
   "codemirror_mode": {
    "name": "ipython",
    "version": 3
   },
   "file_extension": ".py",
   "mimetype": "text/x-python",
   "name": "python",
   "nbconvert_exporter": "python",
   "pygments_lexer": "ipython3",
   "version": "3.11.6"
  }
 },
 "nbformat": 4,
 "nbformat_minor": 4
}
