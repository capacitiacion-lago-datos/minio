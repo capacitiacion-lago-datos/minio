{
 "cells": [
  {
   "cell_type": "code",
   "execution_count": 26,
   "metadata": {},
   "outputs": [],
   "source": [
    "# Importar dependencias\n",
    "\n",
    "from s3fs.core import S3FileSystem\n",
    "import pandas as pd\n",
    "import os\n"
   ]
  },
  {
   "cell_type": "code",
   "execution_count": 4,
   "metadata": {},
   "outputs": [],
   "source": [
    "# Agregar credenciales\n",
    "access = \"capacitacion\"\n",
    "secret = \"capacitacion\"\n",
    "s3 = S3FileSystem(\n",
    "    key=access,\n",
    "    secret=secret,\n",
    "    endpoint_url=\"http://10.91.160.65:9000\"\n",
    ")"
   ]
  },
  {
   "cell_type": "code",
   "execution_count": 8,
   "metadata": {},
   "outputs": [
    {
     "name": "stdout",
     "output_type": "stream",
     "text": [
      "capacitacion-lago-datos\n"
     ]
    }
   ],
   "source": [
    "# Exploremos nuestra conexión\n",
    "buckets = s3.ls('')\n",
    "\n",
    "# Imprimir los buckets a los que tenemos acceso\n",
    "for bucket in buckets:\n",
    "    print(bucket)"
   ]
  },
  {
   "cell_type": "code",
   "execution_count": 13,
   "metadata": {},
   "outputs": [
    {
     "name": "stdout",
     "output_type": "stream",
     "text": [
      "capacitacion-lago-datos/2024-10-03T11-07_export.csv\n"
     ]
    }
   ],
   "source": [
    "# Veamos los archivos dentro de un bucket\n",
    "files = s3.ls('capacitacion-lago-datos')\n",
    "\n",
    "# Imprimir archivos dentro del bucket\n",
    "for file in files:\n",
    "    print(file)"
   ]
  },
  {
   "cell_type": "markdown",
   "metadata": {},
   "source": [
    "Creamos un dataframe de juguete, para escribirlo en minio"
   ]
  },
  {
   "cell_type": "code",
   "execution_count": 17,
   "metadata": {},
   "outputs": [],
   "source": [
    "# Columnas de juguete\n",
    "x = [i for i in range(10)]\n",
    "y = [i + 3 for i in range(10)]\n",
    "\n",
    "# Escribir archivo con pandas\n",
    "df = pd.DataFrame({\"x\": x, \"y\": y})\n",
    "df.to_parquet(\"../data/df_ejemplo.parquet\")\n"
   ]
  },
  {
   "cell_type": "code",
   "execution_count": 21,
   "metadata": {},
   "outputs": [],
   "source": [
    "# Escribir en minio el archivo parquet\n",
    "bucket = \"capacitacion-lago-datos\"\n",
    "file = \"df_ejemplo.parquet\"\n",
    "source_folder = \"../data\"\n",
    "\n",
    "minio_path = f\"{bucket}/{file}\"\n",
    "local_path = f\"{source_folder}/{file}\"\n",
    "s3.put_file(rpath=minio_path,lpath=local_path)"
   ]
  },
  {
   "cell_type": "markdown",
   "metadata": {},
   "source": [
    "Replicamos varias veces el archivo en nuestro directorio local"
   ]
  },
  {
   "cell_type": "code",
   "execution_count": 24,
   "metadata": {},
   "outputs": [
    {
     "name": "stdout",
     "output_type": "stream",
     "text": [
      "Escribiendo archivo 0\n",
      "Escribiendo archivo 1\n",
      "Escribiendo archivo 2\n",
      "Escribiendo archivo 3\n",
      "Escribiendo archivo 4\n",
      "Escribiendo archivo 5\n",
      "Escribiendo archivo 6\n",
      "Escribiendo archivo 7\n",
      "Escribiendo archivo 8\n",
      "Escribiendo archivo 9\n"
     ]
    }
   ],
   "source": [
    "# Contiene el archivo creado manualmente\n",
    "original_file =  pd.read_parquet(local_path)\n",
    "\n",
    "# Vamos a escribir varias veces el mismo archivo\n",
    "for i in range(10):\n",
    "    print(f\"Escribiendo archivo {i}\")\n",
    "    original_file.to_parquet(f\"../data/replica_{i}.parquet\")     "
   ]
  },
  {
   "cell_type": "code",
   "execution_count": 30,
   "metadata": {},
   "outputs": [
    {
     "name": "stdout",
     "output_type": "stream",
     "text": [
      "--------- Escribiendo en S3 archivo df_ejemplo.parquet\n",
      "--------- Escribiendo en S3 archivo replica_0.parquet\n",
      "--------- Escribiendo en S3 archivo replica_1.parquet\n",
      "--------- Escribiendo en S3 archivo replica_2.parquet\n",
      "--------- Escribiendo en S3 archivo replica_3.parquet\n",
      "--------- Escribiendo en S3 archivo replica_4.parquet\n",
      "--------- Escribiendo en S3 archivo replica_5.parquet\n",
      "--------- Escribiendo en S3 archivo replica_6.parquet\n",
      "--------- Escribiendo en S3 archivo replica_7.parquet\n",
      "--------- Escribiendo en S3 archivo replica_8.parquet\n",
      "--------- Escribiendo en S3 archivo replica_9.parquet\n"
     ]
    }
   ],
   "source": [
    "# Escribimos todo en minio\n",
    "parquet_files =  os.listdir(\"../data\")\n",
    "bucket = \"capacitacion-lago-datos\"\n",
    "for file in parquet_files:\n",
    "    print(f\"--------- Escribiendo en S3 archivo {file}\")\n",
    "    rpath = f\"{bucket}/{file}\"\n",
    "    file_path = f\"../data/{file}\"\n",
    "    s3.put_file(lpath=file_path,rpath=rpath)\n",
    "\n",
    "\n"
   ]
  },
  {
   "cell_type": "code",
   "execution_count": 31,
   "metadata": {},
   "outputs": [
    {
     "name": "stdout",
     "output_type": "stream",
     "text": [
      "capacitacion-lago-datos/df_ejemplo.parquet\n",
      "capacitacion-lago-datos/replica_0.parquet\n",
      "capacitacion-lago-datos/replica_1.parquet\n",
      "capacitacion-lago-datos/replica_2.parquet\n",
      "capacitacion-lago-datos/replica_3.parquet\n",
      "capacitacion-lago-datos/replica_4.parquet\n",
      "capacitacion-lago-datos/replica_5.parquet\n",
      "capacitacion-lago-datos/replica_6.parquet\n",
      "capacitacion-lago-datos/replica_7.parquet\n",
      "capacitacion-lago-datos/replica_8.parquet\n",
      "capacitacion-lago-datos/replica_9.parquet\n"
     ]
    }
   ],
   "source": [
    "# Revisemos que todo haya quedado bien escrito\n",
    "files = s3.ls('capacitacion-lago-datos')\n",
    "\n",
    "# Imprimir archivos dentro del bucket\n",
    "for file in files:\n",
    "    print(file)\n"
   ]
  }
 ],
 "metadata": {
  "kernelspec": {
   "display_name": "venv",
   "language": "python",
   "name": "python3"
  },
  "language_info": {
   "codemirror_mode": {
    "name": "ipython",
    "version": 3
   },
   "file_extension": ".py",
   "mimetype": "text/x-python",
   "name": "python",
   "nbconvert_exporter": "python",
   "pygments_lexer": "ipython3",
   "version": "3.11.9"
  }
 },
 "nbformat": 4,
 "nbformat_minor": 2
}
